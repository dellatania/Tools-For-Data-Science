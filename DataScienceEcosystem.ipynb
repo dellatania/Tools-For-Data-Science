{
 "cells": [
  {
   "cell_type": "markdown",
   "id": "57b4fdbd-8e9c-4085-93d8-80f0732d48b3",
   "metadata": {},
   "source": [
    "# Data Science Tools and Ecosystem"
   ]
  },
  {
   "cell_type": "markdown",
   "id": "63581d22-d6c1-4c25-8e2c-e4ef8ed5d3fc",
   "metadata": {},
   "source": [
    "## Author\n",
    "Della Simanjuntak"
   ]
  },
  {
   "cell_type": "markdown",
   "id": "e2c2367c-c399-4084-bd2f-a9257a95db11",
   "metadata": {},
   "source": [
    "**Objectives:**\n",
    "- Give examples of common Data Science languages\n",
    "- Give examples of common Data Science libraries\n",
    "- Give examples of arithmetic Python expressions"
   ]
  },
  {
   "cell_type": "markdown",
   "id": "cfc02e01-71cc-470c-9e2a-8d4e32b6f2e6",
   "metadata": {},
   "source": [
    "In this notebook, Data Science Tools and Ecosystem are summarized."
   ]
  },
  {
   "cell_type": "markdown",
   "id": "f52fc242-462d-4450-b6c2-01d4a32a82cf",
   "metadata": {},
   "source": [
    "Some of the popular languages that Data Scientists use are:\n",
    "1. Python\n",
    "2. R\n",
    "3. SQL"
   ]
  },
  {
   "cell_type": "markdown",
   "id": "66fbfa20-36b6-4177-8e52-42df926270dc",
   "metadata": {},
   "source": [
    "Some of the commonly used libraries used by Data Scientists include:\n",
    "1. Pandas\n",
    "2. NumPy\n",
    "3. Matplotlib\n",
    "4. Seaborn\n",
    "5. Scikit-learn"
   ]
  },
  {
   "cell_type": "markdown",
   "id": "aaa80474-ea61-4f9b-a9e4-9aa4ed0e8179",
   "metadata": {},
   "source": [
    "|Data Science Tools|\n",
    "|---|\n",
    "Git\n",
    "VS Code\n",
    "Jupyter Notebook"
   ]
  },
  {
   "cell_type": "markdown",
   "id": "f9816633-5ea9-491b-a61b-2f967fa1f684",
   "metadata": {},
   "source": [
    "### Below are a few examples of evaluating arithmetic expressions in Python:"
   ]
  },
  {
   "cell_type": "code",
   "execution_count": 1,
   "id": "b7ae5a49-5b2d-421e-b1c8-a59f61df7db4",
   "metadata": {
    "scrolled": true
   },
   "outputs": [
    {
     "data": {
      "text/plain": [
       "17"
      ]
     },
     "execution_count": 1,
     "metadata": {},
     "output_type": "execute_result"
    }
   ],
   "source": [
    "# This is a simple arithmetic expression to multiply then add integers\n",
    "(3*4)+5"
   ]
  },
  {
   "cell_type": "code",
   "execution_count": 2,
   "id": "5925853a-4254-4132-89a5-0d739dad3d9d",
   "metadata": {},
   "outputs": [
    {
     "data": {
      "text/plain": [
       "3.3333333333333335"
      ]
     },
     "execution_count": 2,
     "metadata": {},
     "output_type": "execute_result"
    }
   ],
   "source": [
    "# This will convert 200 minutes to hours by dividing by 60\n",
    "200/60"
   ]
  },
  {
   "cell_type": "markdown",
   "id": "ab3ffc63-1286-4a7f-9f14-9fb9ad657108",
   "metadata": {},
   "source": []
  }
 ],
 "metadata": {
  "kernelspec": {
   "display_name": "Python 3 (ipykernel)",
   "language": "python",
   "name": "python3"
  },
  "language_info": {
   "codemirror_mode": {
    "name": "ipython",
    "version": 3
   },
   "file_extension": ".py",
   "mimetype": "text/x-python",
   "name": "python",
   "nbconvert_exporter": "python",
   "pygments_lexer": "ipython3",
   "version": "3.12.4"
  }
 },
 "nbformat": 4,
 "nbformat_minor": 5
}
